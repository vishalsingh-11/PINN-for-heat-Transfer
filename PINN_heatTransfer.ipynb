{
  "nbformat": 4,
  "nbformat_minor": 0,
  "metadata": {
    "colab": {
      "provenance": [],
      "machine_shape": "hm"
    },
    "kernelspec": {
      "name": "python3",
      "display_name": "Python 3"
    },
    "language_info": {
      "name": "python"
    },
    "gpuClass": "standard"
  },
  "cells": [
    {
      "cell_type": "code",
      "execution_count": null,
      "metadata": {
        "colab": {
          "base_uri": "https://localhost:8080/"
        },
        "id": "_zORHW-f9XPe",
        "outputId": "0349e5c5-cb8c-4fc9-f953-21f1beceff28"
      },
      "outputs": [
        {
          "output_type": "stream",
          "name": "stdout",
          "text": [
            "\u001b[2K     \u001b[90m━━━━━━━━━━━━━━━━━━━━━━━━━━━━━━━━━━━━━━━\u001b[0m \u001b[32m154.5/154.5 kB\u001b[0m \u001b[31m3.8 MB/s\u001b[0m eta \u001b[36m0:00:00\u001b[0m\n",
            "\u001b[2K     \u001b[90m━━━━━━━━━━━━━━━━━━━━━━━━━━━━━━━━━━━━━━━\u001b[0m \u001b[32m100.3/100.3 kB\u001b[0m \u001b[31m5.1 MB/s\u001b[0m eta \u001b[36m0:00:00\u001b[0m\n",
            "\u001b[?25h"
          ]
        }
      ],
      "source": [
        "!pip install -q deepxde\n",
        "# from google.colab import drive\n",
        "# drive.mount('/content/drive')"
      ]
    },
    {
      "cell_type": "code",
      "source": [
        "import numpy as np\n",
        "import deepxde as dde\n",
        "from deepxde.geometry import geometry_2d\n",
        "from deepxde.geometry import csg\n",
        "\n",
        "from deepxde.geometry.geometry import Geometry\n",
        "from deepxde.data.pde import PDE\n",
        "from deepxde.backend import tf\n",
        "from deepxde.model import Model\n",
        "import matplotlib.pyplot as plt\n",
        "import torch\n",
        "\n",
        "from deepxde.icbc.boundary_conditions import PeriodicBC\n",
        "from deepxde.icbc.boundary_conditions import DirichletBC\n",
        "from deepxde.icbc.boundary_conditions import NeumannBC\n",
        "\n",
        "# %env DDE_BACKEND=pytorch python pde.py"
      ],
      "metadata": {
        "colab": {
          "base_uri": "https://localhost:8080/"
        },
        "id": "q1MZwnpi9i-f",
        "outputId": "9292264d-e4ec-49c9-e45f-8cb760b5476c"
      },
      "execution_count": null,
      "outputs": [
        {
          "output_type": "stream",
          "name": "stdout",
          "text": [
            "No backend selected.\n",
            "Finding available backend...\n"
          ]
        },
        {
          "output_type": "stream",
          "name": "stderr",
          "text": [
            "Using backend: tensorflow.compat.v1\n",
            "Other supported backends: tensorflow, pytorch, jax, paddle.\n",
            "paddle supports more examples now and is recommended.\n",
            "WARNING:tensorflow:From /usr/local/lib/python3.10/dist-packages/tensorflow/python/compat/v2_compat.py:107: disable_resource_variables (from tensorflow.python.ops.variable_scope) is deprecated and will be removed in a future version.\n",
            "Instructions for updating:\n",
            "non-resource variables are not supported in the long term\n"
          ]
        },
        {
          "output_type": "stream",
          "name": "stdout",
          "text": [
            "Found tensorflow.compat.v1\n",
            "Setting the default backend to \"tensorflow.compat.v1\". You can change it in the ~/.deepxde/config.json file or export the DDE_BACKEND environment variable. Valid options are: tensorflow.compat.v1, tensorflow, pytorch, jax, paddle (all lowercase)\n"
          ]
        },
        {
          "output_type": "stream",
          "name": "stderr",
          "text": [
            "WARNING:tensorflow:From /usr/local/lib/python3.10/dist-packages/deepxde/nn/initializers.py:118: The name tf.keras.initializers.he_normal is deprecated. Please use tf.compat.v1.keras.initializers.he_normal instead.\n",
            "\n"
          ]
        }
      ]
    },
    {
      "cell_type": "markdown",
      "source": [
        "#1. Define the Simulation Domain"
      ],
      "metadata": {
        "id": "En_I0uKq92ol"
      }
    },
    {
      "cell_type": "code",
      "source": [
        "D = 1\n",
        "\n",
        "# Rectangular\n",
        "Lx_min, Lx_max = -7.5 * D, 22.5 *D\n",
        "Ly_min, Ly_max = -10 * D, 10 * D\n",
        "\n",
        "# Spatial domain: X × Y = [-7.5*D; 22.5*D] × [−10*D, 10*D]\n",
        "Rectangle = dde.geometry.Rectangle([Lx_min, Ly_min], [Lx_max, Ly_max])\n",
        "# Cylinder\n",
        "cylinder = geometry_2d.Polygon([[0, 0]] + [[D*np.cos(t), D*np.sin(t)] for t in np.linspace(0, 2*np.pi, 32)] + [[D, 0]])\n",
        "\n",
        "space_domain = csg.CSGDifference(Rectangle, cylinder)\n",
        "# Time domain: T = [0, 7]\n",
        "time_domain = dde.geometry.TimeDomain(0, 7)\n",
        "# Spatio-temporal domain\n",
        "geomtime = dde.geometry.GeometryXTime(space_domain, time_domain)"
      ],
      "metadata": {
        "id": "3ul8s3JK9yc3"
      },
      "execution_count": null,
      "outputs": []
    },
    {
      "cell_type": "markdown",
      "source": [
        "\n",
        "#PDE and Boundary Conditions"
      ],
      "metadata": {
        "id": "5y77dCxDTAEf"
      }
    },
    {
      "cell_type": "code",
      "source": [
        "def pde(x,t):\n",
        "  Re = 20\n",
        "  Pe = 200\n",
        "  u = t[:, 0:1]\n",
        "  v = t[:, 1:2]\n",
        "  p = t[:, 2:3]\n",
        "  th = t[:, 3:4]\n",
        "\n",
        "  du = tf.gradients(u, x)[0]\n",
        "  dv = tf.gradients(v, x)[0]\n",
        "  dp = tf.gradients(p, x)[0]\n",
        "  dth = tf.gradients(th, x)[0]\n",
        "\n",
        "\n",
        "  u_x, u_y, u_t = du[:, 0:1], du[:, 1:2], du[:,2:]\n",
        "\n",
        "  u_xx = tf.gradients(u_x, x)[0][:, 0:1]\n",
        "  u_yy = tf.gradients(u_y, x)[0][:, 1:2]\n",
        "\n",
        "  v_x, v_y, v_t = dv[:, 0:1], dv[:, 1:2], dv[:,2:]\n",
        "\n",
        "  v_xx = tf.gradients(v_x, x)[0][:, 0:1]\n",
        "  v_yy = tf.gradients(v_y, x)[0][:, 1:2]\n",
        "\n",
        "  p_x, p_y = dp[:, 0:1], dp[:, 1:2]\n",
        "\n",
        "\n",
        "  th_x, th_y, th_t = dth[:, 0:1], dth[:, 1:2], dth[:,2:]\n",
        "  th_xx = tf.gradients(th_x, x)[0][:, 0:1]\n",
        "  th_yy = tf.gradients(th_y, x)[0][:, 1:2]\n",
        "\n",
        "  heat_eq = (th_t) + (th * (u_x + u_y)) - ((1/Pe) * (th_xx + th_yy))\n",
        "  heat_eq_v = (th_t) + (th * (v_x + v_y)) - ((1/Pe) * (th_xx + th_yy))\n",
        "  nav_eq_u = (u_t) + (u * (u_x + u_y)) + (p_x + p_y) - ((1/Re) * (u_xx + u_yy))\n",
        "  nav_eq_v = (v_t) + (u * (v_x + v_y)) + (p_x + p_y) - ((1/Re) * (v_xx + v_yy))\n",
        "  continuity = u_x + u_y\n",
        "  return [nav_eq_u,nav_eq_v,continuity,heat_eq]"
      ],
      "metadata": {
        "id": "hpkfHiiJan3G"
      },
      "execution_count": null,
      "outputs": []
    },
    {
      "cell_type": "code",
      "source": [
        "# Boundary conditions for Navier-stokes\n",
        "def inflow_boundary(x, on_boundary):\n",
        "    return on_boundary and np.isclose(x[0], Lx_min)\n",
        "\n",
        "def outflow_boundary(x, on_boundary):\n",
        "    return on_boundary and np.isclose(x[0], Lx_max)\n",
        "\n",
        "def lateral_boundary(x, on_boundary):\n",
        "    return on_boundary and (np.isclose(x[1], Ly_min) or np.isclose(x[1], Ly_max))\n",
        "\n",
        "\n",
        "def zero_func(x) :\n",
        "    return np.zeros([len(x),1])\n",
        "\n",
        "bc_inlet_u = dde.icbc.DirichletBC(geomtime,zero_func,inflow_boundary,component=0)\n",
        "bc_inlet_v = dde.icbc.DirichletBC(geomtime,zero_func,inflow_boundary,component=1)\n",
        "bc_inlet_heat = dde.icbc.DirichletBC(geomtime, zero_func,inflow_boundary,component=3)\n",
        "\n",
        "bc_lateral_v = dde.icbc.PeriodicBC(geomtime,0,lateral_boundary)\n",
        "bc_lateral_heat = dde.icbc.PeriodicBC(geomtime,0,lateral_boundary)\n",
        "\n",
        "\n",
        "bc_outflow_p = dde.icbc.DirichletBC(geomtime,zero_func,outflow_boundary,component=2)\n",
        "heat_outflow_p = dde.icbc.NeumannBC(geomtime,zero_func,outflow_boundary,component=3)\n",
        "\n"
      ],
      "metadata": {
        "id": "Q3TkbPHhMmvM"
      },
      "execution_count": null,
      "outputs": []
    },
    {
      "cell_type": "markdown",
      "source": [
        "#Data"
      ],
      "metadata": {
        "id": "aJ2OsmgZLz4F"
      }
    },
    {
      "cell_type": "code",
      "source": [
        "data = dde.data.TimePDE(\n",
        "geomtime,\n",
        "pde,\n",
        "[bc_inlet_u,bc_inlet_v,bc_inlet_heat,bc_lateral_v,bc_lateral_heat,bc_outflow_p,heat_outflow_p],\n",
        "num_domain = 20000,\n",
        "num_boundary = 1400,\n",
        ")\n"
      ],
      "metadata": {
        "id": "Kl9IEVZ0_LZR"
      },
      "execution_count": null,
      "outputs": []
    },
    {
      "cell_type": "code",
      "source": [
        "data"
      ],
      "metadata": {
        "colab": {
          "base_uri": "https://localhost:8080/"
        },
        "id": "M3rCW1XRglj8",
        "outputId": "95cd6104-d825-4efe-a8fa-cc5ad31f7fdd"
      },
      "execution_count": null,
      "outputs": [
        {
          "output_type": "execute_result",
          "data": {
            "text/plain": [
              "<deepxde.data.pde.TimePDE at 0x7efcaa272080>"
            ]
          },
          "metadata": {},
          "execution_count": 7
        }
      ]
    },
    {
      "cell_type": "markdown",
      "source": [
        "# PINN Network For Cylinder\n"
      ],
      "metadata": {
        "id": "6Nt-iNnoXA6N"
      }
    },
    {
      "cell_type": "code",
      "source": [
        "# Neural Network setup\n",
        "layer_size = [3] + [200] * 10 + [4]\n",
        "activation = \"tanh\"\n",
        "initializer = \"Glorot uniform\"\n",
        "net = dde.nn.FNN(layer_size, activation, initializer)\n",
        "model = dde.Model(data, net)"
      ],
      "metadata": {
        "id": "bN__zuWYW-0J"
      },
      "execution_count": null,
      "outputs": []
    },
    {
      "cell_type": "code",
      "source": [
        "model.compile(\"adam\", lr=0.001)\n",
        "losshistory, train_state = model.train(iterations=50)"
      ],
      "metadata": {
        "colab": {
          "base_uri": "https://localhost:8080/"
        },
        "id": "-QdpNTYH7zR1",
        "outputId": "11b06f01-66aa-4ed2-b219-3d804e88a735"
      },
      "execution_count": null,
      "outputs": [
        {
          "output_type": "stream",
          "name": "stdout",
          "text": [
            "Compiling model...\n",
            "'compile' took 8.919232 s\n",
            "\n",
            "Initializing variables...\n",
            "Training model...\n",
            "\n",
            "Step      Train loss                                                                                                        Test loss                                                                                                         Test metric\n",
            "0         [9.87e-04, 1.01e-03, 1.20e-03, 2.17e-03, 6.57e-02, 1.69e-02, 1.46e-01, 0.00e+00, 0.00e+00, 1.61e-02, 7.34e-05]    [9.87e-04, 1.01e-03, 1.20e-03, 2.17e-03, 6.57e-02, 1.69e-02, 1.46e-01, 0.00e+00, 0.00e+00, 1.61e-02, 7.34e-05]    []  \n",
            "50        [2.08e-04, 2.24e-04, 1.55e-04, 1.19e-04, 7.20e-04, 4.70e-04, 1.57e-03, 0.00e+00, 0.00e+00, 1.66e-04, 1.72e-06]    [2.08e-04, 2.24e-04, 1.55e-04, 1.19e-04, 7.20e-04, 4.70e-04, 1.57e-03, 0.00e+00, 0.00e+00, 1.66e-04, 1.72e-06]    []  \n",
            "\n",
            "Best model at step 50:\n",
            "  train loss: 3.64e-03\n",
            "  test loss: 3.64e-03\n",
            "  test metric: []\n",
            "\n",
            "'train' took 691.614613 s\n",
            "\n"
          ]
        }
      ]
    },
    {
      "cell_type": "code",
      "source": [
        "dde.saveplot(losshistory, train_state, issave=True, isplot=True)\n",
        "dde.utils.plot_best_state(train_state)"
      ],
      "metadata": {
        "colab": {
          "base_uri": "https://localhost:8080/",
          "height": 503
        },
        "id": "nF-PDxqIBzwW",
        "outputId": "cc331dc9-6c1f-492f-e1ba-194819ce058c"
      },
      "execution_count": null,
      "outputs": [
        {
          "output_type": "stream",
          "name": "stdout",
          "text": [
            "Saving loss history to /content/loss.dat ...\n",
            "Saving training data to /content/train.dat ...\n",
            "Saving test data to /content/test.dat ...\n"
          ]
        },
        {
          "output_type": "display_data",
          "data": {
            "text/plain": [
              "<Figure size 640x480 with 1 Axes>"
            ],
            "image/png": "[encoded data removed]"
          },
          "metadata": {}
        }
      ]
    },
    {
      "cell_type": "code",
      "source": [
        "def plot_boundary_conditions(pde_data):\n",
        "    boundary_conditions = pde_data.bcs\n",
        "    X_train = np.array(pde_data.train_x)\n",
        "\n",
        "    plt.figure()\n",
        "    ax = plt.axes(projection=Axes3D.name)\n",
        "\n",
        "    mat = []\n",
        "    for bc in boundary_conditions:\n",
        "        x = bc.filter(X_train)\n",
        "        val = bc.func(x)\n",
        "        m = np.hstack((x, val))\n",
        "        mat.append(m)\n",
        "\n",
        "    mat = np.vstack(mat)\n",
        "    ax.plot3D(mat[:, 0], mat[:, 1], mat[:, 2], \".\")\n",
        "    plt.show()"
      ],
      "metadata": {
        "id": "HGQVk60Y87Fn"
      },
      "execution_count": null,
      "outputs": []
    },
    {
      "cell_type": "code",
      "source": [
        "from mpl_toolkits.mplot3d import Axes3D\n",
        "plot_boundary_conditions(data)"
      ],
      "metadata": {
        "id": "ABrKLnZGcPp_"
      },
      "execution_count": null,
      "outputs": []
    },
    {
      "cell_type": "code",
      "source": [],
      "metadata": {
        "id": "wUnP2t6xcPtw"
      },
      "execution_count": null,
      "outputs": []
    },
    {
      "cell_type": "code",
      "source": [
        "# Add anchors for RARpts # of points with highest Residual Error\n",
        "x_id = np.argpartition(err_eq, -RARpts, axis=0)[-RARpts:]\n",
        "data.add_anchors(X[x_id[:,-1]])"
      ],
      "metadata": {
        "id": "CizbJZnO9ATX"
      },
      "execution_count": null,
      "outputs": []
    }
  ]
}